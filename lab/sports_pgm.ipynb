{
 "cells": [
  {
   "cell_type": "code",
   "execution_count": 41,
   "id": "18d68295",
   "metadata": {
    "id": "18d68295"
   },
   "outputs": [],
   "source": [
    "import numpy as np\n",
    "import tensorflow as tf\n",
    "from tensorflow import keras\n",
    "from tensorflow.keras import layers\n",
    "import pandas as pd"
   ]
  },
  {
   "cell_type": "code",
   "execution_count": 43,
   "id": "45869902",
   "metadata": {
    "id": "45869902",
    "outputId": "fd9d0fcf-eabd-4896-f7a2-33f71263d628"
   },
   "outputs": [
    {
     "name": "stdout",
     "output_type": "stream",
     "text": [
      "   FTR  HTGS  ATGS  HTGC  ATGC  HTP  ATP  HM1  HM2  HM3  ...  ATWinStreak5  \\\n",
      "0    0   0.0   0.0   0.0   0.0  0.0  0.0    2    2    2  ...             0   \n",
      "1    0   0.0   0.0   0.0   0.0  0.0  0.0    2    2    2  ...             0   \n",
      "2    1   0.0   0.0   0.0   0.0  0.0  0.0    2    2    2  ...             0   \n",
      "3    0   0.0   0.0   0.0   0.0  0.0  0.0    2    2    2  ...             0   \n",
      "4    1   0.0   0.0   0.0   0.0  0.0  0.0    2    2    2  ...             0   \n",
      "\n",
      "   ATLossStreak3  ATLossStreak5  HTGD  ATGD  DiffPts  DiffFormPts  DiffLP  \\\n",
      "0              0              0   0.0   0.0      0.0          0.0   -11.0   \n",
      "1              0              0   0.0   0.0      0.0          0.0     2.0   \n",
      "2              0              0   0.0   0.0      0.0          0.0     2.0   \n",
      "3              0              0   0.0   0.0      0.0          0.0   -17.0   \n",
      "4              0              0   0.0   0.0      0.0          0.0     4.0   \n",
      "\n",
      "   final1  final2  \n",
      "0     1.0     0.0  \n",
      "1     1.0     0.0  \n",
      "2     0.0     1.0  \n",
      "3     1.0     0.0  \n",
      "4     0.0     1.0  \n",
      "\n",
      "[5 rows x 30 columns]\n",
      "(1860, 30)\n"
     ]
    }
   ],
   "source": [
    "dataTrain=pd.read_csv(\"allAtt_onehot_large_train (1).csv\")\n",
    "dataTest=pd.read_csv(\"allAtt_onehot_large_test (1).csv\")\n",
    "print(dataTrain.head())\n",
    "print(dataTrain.shape)"
   ]
  },
  {
   "cell_type": "code",
   "execution_count": 45,
   "id": "cbbcc5bf",
   "metadata": {
    "id": "cbbcc5bf"
   },
   "outputs": [],
   "source": [
    "batch_size = 64\n",
    "# Each MNIST image batch is a tensor of shape (batch_size, 28, 1).\n",
    "# Each input sequence will be of size (28, 1).\n",
    "input_dim = 27\n",
    "units = 64\n",
    "output_size = 2 # labels are from Win or Loss\n",
    "# Build the RNN model\n",
    "def build_model():\n",
    "    lstm_layer = keras.layers.RNN(\n",
    "    keras.layers.LSTMCell(units), input_shape=(input_dim,1))\n",
    "    model = keras.models.Sequential([lstm_layer,keras.layers.BatchNormalization(),keras.layers.Dense(output_size),])\n",
    "    return model"
   ]
  },
  {
   "cell_type": "code",
   "execution_count": 47,
   "id": "4fc936ca",
   "metadata": {
    "id": "4fc936ca"
   },
   "outputs": [],
   "source": [
    "x_train, y_train = dataTrain.iloc[:,1:28].values,dataTrain.iloc[:,28:].values\n",
    "\n",
    "x_test, y_test = dataTest.iloc[:,1:28].values,dataTest.iloc[:,28:].values\n"
   ]
  },
  {
   "cell_type": "code",
   "execution_count": 49,
   "id": "6fc498b1",
   "metadata": {
    "id": "6fc498b1",
    "outputId": "45b6991b-08be-4bee-88af-2428fc28452a"
   },
   "outputs": [
    {
     "name": "stderr",
     "output_type": "stream",
     "text": [
      "C:\\Users\\91883\\anaconda3\\Lib\\site-packages\\keras\\src\\layers\\rnn\\rnn.py:204: UserWarning: Do not pass an `input_shape`/`input_dim` argument to a layer. When using Sequential models, prefer using an `Input(shape)` object as the first layer in the model instead.\n",
      "  super().__init__(**kwargs)\n"
     ]
    },
    {
     "data": {
      "text/html": [
       "<pre style=\"white-space:pre;overflow-x:auto;line-height:normal;font-family:Menlo,'DejaVu Sans Mono',consolas,'Courier New',monospace\"><span style=\"font-weight: bold\">Model: \"sequential_3\"</span>\n",
       "</pre>\n"
      ],
      "text/plain": [
       "\u001b[1mModel: \"sequential_3\"\u001b[0m\n"
      ]
     },
     "metadata": {},
     "output_type": "display_data"
    },
    {
     "data": {
      "text/html": [
       "<pre style=\"white-space:pre;overflow-x:auto;line-height:normal;font-family:Menlo,'DejaVu Sans Mono',consolas,'Courier New',monospace\">┏━━━━━━━━━━━━━━━━━━━━━━━━━━━━━━━━━━━━━━┳━━━━━━━━━━━━━━━━━━━━━━━━━━━━━┳━━━━━━━━━━━━━━━━━┓\n",
       "┃<span style=\"font-weight: bold\"> Layer (type)                         </span>┃<span style=\"font-weight: bold\"> Output Shape                </span>┃<span style=\"font-weight: bold\">         Param # </span>┃\n",
       "┡━━━━━━━━━━━━━━━━━━━━━━━━━━━━━━━━━━━━━━╇━━━━━━━━━━━━━━━━━━━━━━━━━━━━━╇━━━━━━━━━━━━━━━━━┩\n",
       "│ rnn_3 (<span style=\"color: #0087ff; text-decoration-color: #0087ff\">RNN</span>)                          │ (<span style=\"color: #00d7ff; text-decoration-color: #00d7ff\">None</span>, <span style=\"color: #00af00; text-decoration-color: #00af00\">64</span>)                  │          <span style=\"color: #00af00; text-decoration-color: #00af00\">16,896</span> │\n",
       "├──────────────────────────────────────┼─────────────────────────────┼─────────────────┤\n",
       "│ batch_normalization_3                │ (<span style=\"color: #00d7ff; text-decoration-color: #00d7ff\">None</span>, <span style=\"color: #00af00; text-decoration-color: #00af00\">64</span>)                  │             <span style=\"color: #00af00; text-decoration-color: #00af00\">256</span> │\n",
       "│ (<span style=\"color: #0087ff; text-decoration-color: #0087ff\">BatchNormalization</span>)                 │                             │                 │\n",
       "├──────────────────────────────────────┼─────────────────────────────┼─────────────────┤\n",
       "│ dense_3 (<span style=\"color: #0087ff; text-decoration-color: #0087ff\">Dense</span>)                      │ (<span style=\"color: #00d7ff; text-decoration-color: #00d7ff\">None</span>, <span style=\"color: #00af00; text-decoration-color: #00af00\">2</span>)                   │             <span style=\"color: #00af00; text-decoration-color: #00af00\">130</span> │\n",
       "└──────────────────────────────────────┴─────────────────────────────┴─────────────────┘\n",
       "</pre>\n"
      ],
      "text/plain": [
       "┏━━━━━━━━━━━━━━━━━━━━━━━━━━━━━━━━━━━━━━┳━━━━━━━━━━━━━━━━━━━━━━━━━━━━━┳━━━━━━━━━━━━━━━━━┓\n",
       "┃\u001b[1m \u001b[0m\u001b[1mLayer (type)                        \u001b[0m\u001b[1m \u001b[0m┃\u001b[1m \u001b[0m\u001b[1mOutput Shape               \u001b[0m\u001b[1m \u001b[0m┃\u001b[1m \u001b[0m\u001b[1m        Param #\u001b[0m\u001b[1m \u001b[0m┃\n",
       "┡━━━━━━━━━━━━━━━━━━━━━━━━━━━━━━━━━━━━━━╇━━━━━━━━━━━━━━━━━━━━━━━━━━━━━╇━━━━━━━━━━━━━━━━━┩\n",
       "│ rnn_3 (\u001b[38;5;33mRNN\u001b[0m)                          │ (\u001b[38;5;45mNone\u001b[0m, \u001b[38;5;34m64\u001b[0m)                  │          \u001b[38;5;34m16,896\u001b[0m │\n",
       "├──────────────────────────────────────┼─────────────────────────────┼─────────────────┤\n",
       "│ batch_normalization_3                │ (\u001b[38;5;45mNone\u001b[0m, \u001b[38;5;34m64\u001b[0m)                  │             \u001b[38;5;34m256\u001b[0m │\n",
       "│ (\u001b[38;5;33mBatchNormalization\u001b[0m)                 │                             │                 │\n",
       "├──────────────────────────────────────┼─────────────────────────────┼─────────────────┤\n",
       "│ dense_3 (\u001b[38;5;33mDense\u001b[0m)                      │ (\u001b[38;5;45mNone\u001b[0m, \u001b[38;5;34m2\u001b[0m)                   │             \u001b[38;5;34m130\u001b[0m │\n",
       "└──────────────────────────────────────┴─────────────────────────────┴─────────────────┘\n"
      ]
     },
     "metadata": {},
     "output_type": "display_data"
    },
    {
     "data": {
      "text/html": [
       "<pre style=\"white-space:pre;overflow-x:auto;line-height:normal;font-family:Menlo,'DejaVu Sans Mono',consolas,'Courier New',monospace\"><span style=\"font-weight: bold\"> Total params: </span><span style=\"color: #00af00; text-decoration-color: #00af00\">17,282</span> (67.51 KB)\n",
       "</pre>\n"
      ],
      "text/plain": [
       "\u001b[1m Total params: \u001b[0m\u001b[38;5;34m17,282\u001b[0m (67.51 KB)\n"
      ]
     },
     "metadata": {},
     "output_type": "display_data"
    },
    {
     "data": {
      "text/html": [
       "<pre style=\"white-space:pre;overflow-x:auto;line-height:normal;font-family:Menlo,'DejaVu Sans Mono',consolas,'Courier New',monospace\"><span style=\"font-weight: bold\"> Trainable params: </span><span style=\"color: #00af00; text-decoration-color: #00af00\">17,154</span> (67.01 KB)\n",
       "</pre>\n"
      ],
      "text/plain": [
       "\u001b[1m Trainable params: \u001b[0m\u001b[38;5;34m17,154\u001b[0m (67.01 KB)\n"
      ]
     },
     "metadata": {},
     "output_type": "display_data"
    },
    {
     "data": {
      "text/html": [
       "<pre style=\"white-space:pre;overflow-x:auto;line-height:normal;font-family:Menlo,'DejaVu Sans Mono',consolas,'Courier New',monospace\"><span style=\"font-weight: bold\"> Non-trainable params: </span><span style=\"color: #00af00; text-decoration-color: #00af00\">128</span> (512.00 B)\n",
       "</pre>\n"
      ],
      "text/plain": [
       "\u001b[1m Non-trainable params: \u001b[0m\u001b[38;5;34m128\u001b[0m (512.00 B)\n"
      ]
     },
     "metadata": {},
     "output_type": "display_data"
    }
   ],
   "source": [
    "model = build_model()\n",
    "model.compile(loss=keras.losses.CategoricalCrossentropy(from_logits=True),optimizer=\"Adam\",metrics=[\"categorical_accuracy\"],)\n",
    "model.summary()"
   ]
  },
  {
   "cell_type": "code",
   "execution_count": 51,
   "id": "910b66d7",
   "metadata": {
    "id": "910b66d7",
    "outputId": "845aa832-9d1a-4024-d7b8-8755382431b6"
   },
   "outputs": [
    {
     "name": "stdout",
     "output_type": "stream",
     "text": [
      "Epoch 1/10\n",
      "\u001b[1m30/30\u001b[0m \u001b[32m━━━━━━━━━━━━━━━━━━━━\u001b[0m\u001b[37m\u001b[0m \u001b[1m6s\u001b[0m 56ms/step - categorical_accuracy: 0.6983 - loss: 0.6322 - val_categorical_accuracy: 0.6538 - val_loss: 0.6562\n",
      "Epoch 2/10\n",
      "\u001b[1m30/30\u001b[0m \u001b[32m━━━━━━━━━━━━━━━━━━━━\u001b[0m\u001b[37m\u001b[0m \u001b[1m1s\u001b[0m 33ms/step - categorical_accuracy: 0.6571 - loss: 0.6242 - val_categorical_accuracy: 0.6513 - val_loss: 0.6527\n",
      "Epoch 3/10\n",
      "\u001b[1m30/30\u001b[0m \u001b[32m━━━━━━━━━━━━━━━━━━━━\u001b[0m\u001b[37m\u001b[0m \u001b[1m1s\u001b[0m 30ms/step - categorical_accuracy: 0.6735 - loss: 0.6180 - val_categorical_accuracy: 0.6525 - val_loss: 0.6516\n",
      "Epoch 4/10\n",
      "\u001b[1m30/30\u001b[0m \u001b[32m━━━━━━━━━━━━━━━━━━━━\u001b[0m\u001b[37m\u001b[0m \u001b[1m1s\u001b[0m 32ms/step - categorical_accuracy: 0.6493 - loss: 0.6119 - val_categorical_accuracy: 0.6550 - val_loss: 0.6428\n",
      "Epoch 5/10\n",
      "\u001b[1m30/30\u001b[0m \u001b[32m━━━━━━━━━━━━━━━━━━━━\u001b[0m\u001b[37m\u001b[0m \u001b[1m1s\u001b[0m 32ms/step - categorical_accuracy: 0.6715 - loss: 0.6043 - val_categorical_accuracy: 0.6637 - val_loss: 0.6408\n",
      "Epoch 6/10\n",
      "\u001b[1m30/30\u001b[0m \u001b[32m━━━━━━━━━━━━━━━━━━━━\u001b[0m\u001b[37m\u001b[0m \u001b[1m1s\u001b[0m 32ms/step - categorical_accuracy: 0.6936 - loss: 0.5942 - val_categorical_accuracy: 0.6662 - val_loss: 0.6472\n",
      "Epoch 7/10\n",
      "\u001b[1m30/30\u001b[0m \u001b[32m━━━━━━━━━━━━━━━━━━━━\u001b[0m\u001b[37m\u001b[0m \u001b[1m1s\u001b[0m 32ms/step - categorical_accuracy: 0.6890 - loss: 0.6044 - val_categorical_accuracy: 0.6675 - val_loss: 0.6407\n",
      "Epoch 8/10\n",
      "\u001b[1m30/30\u001b[0m \u001b[32m━━━━━━━━━━━━━━━━━━━━\u001b[0m\u001b[37m\u001b[0m \u001b[1m1s\u001b[0m 31ms/step - categorical_accuracy: 0.6687 - loss: 0.6028 - val_categorical_accuracy: 0.6538 - val_loss: 0.6377\n",
      "Epoch 9/10\n",
      "\u001b[1m30/30\u001b[0m \u001b[32m━━━━━━━━━━━━━━━━━━━━\u001b[0m\u001b[37m\u001b[0m \u001b[1m1s\u001b[0m 32ms/step - categorical_accuracy: 0.6642 - loss: 0.6052 - val_categorical_accuracy: 0.6488 - val_loss: 0.6356\n",
      "Epoch 10/10\n",
      "\u001b[1m30/30\u001b[0m \u001b[32m━━━━━━━━━━━━━━━━━━━━\u001b[0m\u001b[37m\u001b[0m \u001b[1m1s\u001b[0m 32ms/step - categorical_accuracy: 0.6880 - loss: 0.5954 - val_categorical_accuracy: 0.6587 - val_loss: 0.6272\n"
     ]
    },
    {
     "data": {
      "text/plain": [
       "<keras.src.callbacks.history.History at 0x25a207ab1d0>"
      ]
     },
     "execution_count": 51,
     "metadata": {},
     "output_type": "execute_result"
    }
   ],
   "source": [
    "model.fit(x_train, y_train, validation_data=(x_test, y_test), batch_size=batch_size, epochs=10)\n"
   ]
  },
  {
   "cell_type": "code",
   "execution_count": 53,
   "id": "30f0ffe6-5b32-4d4e-af7a-c44d540a5d7e",
   "metadata": {},
   "outputs": [],
   "source": [
    "model.save('somo_model.keras')"
   ]
  },
  {
   "cell_type": "code",
   "execution_count": 63,
   "id": "769b65d6",
   "metadata": {
    "id": "769b65d6",
    "outputId": "ede1a4e0-b427-4294-e825-0910ba7bdb1b"
   },
   "outputs": [
    {
     "name": "stdout",
     "output_type": "stream",
     "text": [
      "\u001b[1m25/25\u001b[0m \u001b[32m━━━━━━━━━━━━━━━━━━━━\u001b[0m\u001b[37m\u001b[0m \u001b[1m1s\u001b[0m 8ms/step\n"
     ]
    },
    {
     "data": {
      "text/plain": [
       "array([[-0.12871587, -0.19649278],\n",
       "       [-0.46672997, -1.07478   ],\n",
       "       [-0.04807143,  0.2944741 ],\n",
       "       ...,\n",
       "       [-0.15291712, -0.26699117],\n",
       "       [-0.12380923, -0.19215797],\n",
       "       [ 0.06035557,  1.0871564 ]], dtype=float32)"
      ]
     },
     "execution_count": 63,
     "metadata": {},
     "output_type": "execute_result"
    }
   ],
   "source": [
    "from tensorflow.keras.models import load_model\n",
    "loaded_model=load_model('somo_model.keras')\n",
    "pred=loaded_model.predict(x_test)\n",
    "pred"
   ]
  },
  {
   "cell_type": "code",
   "execution_count": null,
   "id": "ee4d8f5f-2055-497b-985e-300312375bb0",
   "metadata": {},
   "outputs": [],
   "source": []
  }
 ],
 "metadata": {
  "colab": {
   "provenance": []
  },
  "kernelspec": {
   "display_name": "Python 3 (ipykernel)",
   "language": "python",
   "name": "python3"
  },
  "language_info": {
   "codemirror_mode": {
    "name": "ipython",
    "version": 3
   },
   "file_extension": ".py",
   "mimetype": "text/x-python",
   "name": "python",
   "nbconvert_exporter": "python",
   "pygments_lexer": "ipython3",
   "version": "3.11.5"
  }
 },
 "nbformat": 4,
 "nbformat_minor": 5
}
